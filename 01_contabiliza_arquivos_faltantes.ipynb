{
 "cells": [
  {
   "cell_type": "code",
   "execution_count": 14,
   "id": "c13c794c-068e-4c96-9400-2dbf3cff399c",
   "metadata": {},
   "outputs": [],
   "source": [
    "# importa bibliotecas\n",
    "import glob\n",
    "import os\n",
    "import pandas as pd\n",
    "import numpy as np\n",
    "\n",
    "# define as datas\n",
    "datas = ['2023-02-18', '2023-02-19']\n",
    "\n",
    "# loop das datas\n",
    "df_total, df_hora_total = pd.DataFrame(), []\n",
    "for data in datas:\n",
    "    \n",
    "    # lista os arquivos daquele dia\n",
    "    dir_input = f'/Users/enriq/Downloads/PROCESSAMENTO_PYTHON/ARTIGO_LITORAL_NORTE_2023/dados_radar_fcth_{data}/'\n",
    "    files = sorted(glob.glob(f'{dir_input}*.HDF5')) # 20220503235730.dBZ.vol\n",
    "\n",
    "    # separa a data em ano, mês, dia, hora, minuto e segundo\n",
    "    data, ano, mes, dia, hor, min, seg = [], [], [], [], [], [], []\n",
    "    for file in files:\n",
    "        basename = os.path.basename(os.path.splitext(file)[0])[7:25] # '20220503235730'\n",
    "        data.append(basename)\n",
    "        ano.append(basename[0:4])\n",
    "        mes.append(basename[4:6])\n",
    "        dia.append(basename[6:8])\n",
    "        hor.append(basename[8:10])\n",
    "        min.append(basename[10:12])\n",
    "        seg.append(basename[12:14])\n",
    "\n",
    "    # coloca a data num dataframa\n",
    "    df = pd.DataFrame({'data': data, 'ano': ano, 'mes': mes, 'dia': dia, 'hor': hor, 'min': min, 'seg': seg })\n",
    "\n",
    "    # agrupa por hora\n",
    "    df_hora = df.groupby('hor').count()['ano']\n",
    "\n",
    "    # transforma para datetime\n",
    "    df['data'] = pd.to_datetime(df['data'])\n",
    "\n",
    "    # seta a coluna data com o index do dataframe\n",
    "    df.set_index('data', inplace=True)\n",
    "\n",
    "    # calcula a diferença de tempo entre as linhas: https://stackoverflow.com/questions/16777570/calculate-time-difference-between-pandas-dataframe-indices\n",
    "    df['deltaT_min'] = df.index.to_series().diff().dt.seconds.div(60, fill_value=0)\n",
    "    df['deltaT_min'] = round(df['deltaT_min'], 1) \n",
    "\n",
    "    # mostra a tabela\n",
    "    #display(df.head(2))\n",
    "\n",
    "    # concatena\n",
    "    df_total = pd.concat([df, df_total], ignore_index=True)\n",
    "\n",
    "    # junta as tabelas da quantidade de arquivos por hora\n",
    "    df_hora_total.append(df_hora)\n",
    "\n",
    "# salva arquivo que mostra o intervalo de tempo (em minutos) entre o atual e o próximo arquivo\n",
    "dfx_tempo = pd.DataFrame({'minutos_entre_arquivo_atual_e_proximo': df_total['deltaT_min'].value_counts().index, 'qte_arquivos': df_total['deltaT_min'].value_counts().values})\n",
    "dfx_tempo = dfx_tempo.sort_values(by='minutos_entre_arquivo_atual_e_proximo', ignore_index=True)\n",
    "dfx_tempo = dfx_tempo.drop(dfx_tempo.index[[0]])\n",
    "dfx_tempo.to_csv('output/diferenca_tempo_arquivos_radar.csv', index=False)\n",
    "\n",
    "# salva arquivo que mostra a quantidade de arquivos por hora de um determinado dia\n",
    "dfx_hora = pd.DataFrame(index=df_hora.index, columns=datas)\n",
    "for i, data in enumerate(datas): dfx_hora[data] = df_hora_total[i]\n",
    "dfx_hora.to_csv('output/arquivos_radar_por_hora.csv', sep=';', index=False)"
   ]
  },
  {
   "cell_type": "code",
   "execution_count": 15,
   "id": "2615d8ca-d25e-4353-a333-ca3b0d79920c",
   "metadata": {},
   "outputs": [
    {
     "data": {
      "text/html": [
       "<div>\n",
       "<style scoped>\n",
       "    .dataframe tbody tr th:only-of-type {\n",
       "        vertical-align: middle;\n",
       "    }\n",
       "\n",
       "    .dataframe tbody tr th {\n",
       "        vertical-align: top;\n",
       "    }\n",
       "\n",
       "    .dataframe thead th {\n",
       "        text-align: right;\n",
       "    }\n",
       "</style>\n",
       "<table border=\"1\" class=\"dataframe\">\n",
       "  <thead>\n",
       "    <tr style=\"text-align: right;\">\n",
       "      <th></th>\n",
       "      <th>ano</th>\n",
       "      <th>mes</th>\n",
       "      <th>dia</th>\n",
       "      <th>hor</th>\n",
       "      <th>min</th>\n",
       "      <th>seg</th>\n",
       "      <th>deltaT_min</th>\n",
       "    </tr>\n",
       "  </thead>\n",
       "  <tbody>\n",
       "    <tr>\n",
       "      <th>0</th>\n",
       "      <td>2023</td>\n",
       "      <td>02</td>\n",
       "      <td>19</td>\n",
       "      <td>00</td>\n",
       "      <td>00</td>\n",
       "      <td>02</td>\n",
       "      <td>0.0</td>\n",
       "    </tr>\n",
       "    <tr>\n",
       "      <th>1</th>\n",
       "      <td>2023</td>\n",
       "      <td>02</td>\n",
       "      <td>19</td>\n",
       "      <td>00</td>\n",
       "      <td>05</td>\n",
       "      <td>02</td>\n",
       "      <td>5.0</td>\n",
       "    </tr>\n",
       "    <tr>\n",
       "      <th>2</th>\n",
       "      <td>2023</td>\n",
       "      <td>02</td>\n",
       "      <td>19</td>\n",
       "      <td>00</td>\n",
       "      <td>10</td>\n",
       "      <td>02</td>\n",
       "      <td>5.0</td>\n",
       "    </tr>\n",
       "    <tr>\n",
       "      <th>3</th>\n",
       "      <td>2023</td>\n",
       "      <td>02</td>\n",
       "      <td>19</td>\n",
       "      <td>00</td>\n",
       "      <td>15</td>\n",
       "      <td>02</td>\n",
       "      <td>5.0</td>\n",
       "    </tr>\n",
       "    <tr>\n",
       "      <th>4</th>\n",
       "      <td>2023</td>\n",
       "      <td>02</td>\n",
       "      <td>19</td>\n",
       "      <td>00</td>\n",
       "      <td>20</td>\n",
       "      <td>01</td>\n",
       "      <td>5.0</td>\n",
       "    </tr>\n",
       "    <tr>\n",
       "      <th>...</th>\n",
       "      <td>...</td>\n",
       "      <td>...</td>\n",
       "      <td>...</td>\n",
       "      <td>...</td>\n",
       "      <td>...</td>\n",
       "      <td>...</td>\n",
       "      <td>...</td>\n",
       "    </tr>\n",
       "    <tr>\n",
       "      <th>571</th>\n",
       "      <td>2023</td>\n",
       "      <td>02</td>\n",
       "      <td>18</td>\n",
       "      <td>23</td>\n",
       "      <td>35</td>\n",
       "      <td>03</td>\n",
       "      <td>5.0</td>\n",
       "    </tr>\n",
       "    <tr>\n",
       "      <th>572</th>\n",
       "      <td>2023</td>\n",
       "      <td>02</td>\n",
       "      <td>18</td>\n",
       "      <td>23</td>\n",
       "      <td>40</td>\n",
       "      <td>02</td>\n",
       "      <td>5.0</td>\n",
       "    </tr>\n",
       "    <tr>\n",
       "      <th>573</th>\n",
       "      <td>2023</td>\n",
       "      <td>02</td>\n",
       "      <td>18</td>\n",
       "      <td>23</td>\n",
       "      <td>45</td>\n",
       "      <td>02</td>\n",
       "      <td>5.0</td>\n",
       "    </tr>\n",
       "    <tr>\n",
       "      <th>574</th>\n",
       "      <td>2023</td>\n",
       "      <td>02</td>\n",
       "      <td>18</td>\n",
       "      <td>23</td>\n",
       "      <td>50</td>\n",
       "      <td>02</td>\n",
       "      <td>5.0</td>\n",
       "    </tr>\n",
       "    <tr>\n",
       "      <th>575</th>\n",
       "      <td>2023</td>\n",
       "      <td>02</td>\n",
       "      <td>18</td>\n",
       "      <td>23</td>\n",
       "      <td>55</td>\n",
       "      <td>02</td>\n",
       "      <td>5.0</td>\n",
       "    </tr>\n",
       "  </tbody>\n",
       "</table>\n",
       "<p>576 rows × 7 columns</p>\n",
       "</div>"
      ],
      "text/plain": [
       "      ano mes dia hor min seg  deltaT_min\n",
       "0    2023  02  19  00  00  02         0.0\n",
       "1    2023  02  19  00  05  02         5.0\n",
       "2    2023  02  19  00  10  02         5.0\n",
       "3    2023  02  19  00  15  02         5.0\n",
       "4    2023  02  19  00  20  01         5.0\n",
       "..    ...  ..  ..  ..  ..  ..         ...\n",
       "571  2023  02  18  23  35  03         5.0\n",
       "572  2023  02  18  23  40  02         5.0\n",
       "573  2023  02  18  23  45  02         5.0\n",
       "574  2023  02  18  23  50  02         5.0\n",
       "575  2023  02  18  23  55  02         5.0\n",
       "\n",
       "[576 rows x 7 columns]"
      ]
     },
     "execution_count": 15,
     "metadata": {},
     "output_type": "execute_result"
    }
   ],
   "source": [
    "df_total"
   ]
  },
  {
   "cell_type": "code",
   "execution_count": 16,
   "id": "01457f59-96cd-48f4-9c52-a44390181748",
   "metadata": {},
   "outputs": [
    {
     "data": {
      "text/plain": [
       "hor\n",
       "00    12\n",
       "01    12\n",
       "02    12\n",
       "03    12\n",
       "04    12\n",
       "05    12\n",
       "06    12\n",
       "07    12\n",
       "08    12\n",
       "09    12\n",
       "10    12\n",
       "11    12\n",
       "12    12\n",
       "13    12\n",
       "14    12\n",
       "15    12\n",
       "16    12\n",
       "17    12\n",
       "18    12\n",
       "19    12\n",
       "20    12\n",
       "21    12\n",
       "22    12\n",
       "23    12\n",
       "Name: ano, dtype: int64"
      ]
     },
     "execution_count": 16,
     "metadata": {},
     "output_type": "execute_result"
    }
   ],
   "source": [
    "df_hora_total[0]"
   ]
  },
  {
   "cell_type": "code",
   "execution_count": 17,
   "id": "9cdc3763-ff63-4064-8386-3d6f44feb9b3",
   "metadata": {},
   "outputs": [
    {
     "data": {
      "text/html": [
       "<div>\n",
       "<style scoped>\n",
       "    .dataframe tbody tr th:only-of-type {\n",
       "        vertical-align: middle;\n",
       "    }\n",
       "\n",
       "    .dataframe tbody tr th {\n",
       "        vertical-align: top;\n",
       "    }\n",
       "\n",
       "    .dataframe thead th {\n",
       "        text-align: right;\n",
       "    }\n",
       "</style>\n",
       "<table border=\"1\" class=\"dataframe\">\n",
       "  <thead>\n",
       "    <tr style=\"text-align: right;\">\n",
       "      <th></th>\n",
       "      <th>minutos_entre_arquivo_atual_e_proximo</th>\n",
       "      <th>qte_arquivos</th>\n",
       "    </tr>\n",
       "  </thead>\n",
       "  <tbody>\n",
       "    <tr>\n",
       "      <th>1</th>\n",
       "      <td>5.0</td>\n",
       "      <td>574</td>\n",
       "    </tr>\n",
       "  </tbody>\n",
       "</table>\n",
       "</div>"
      ],
      "text/plain": [
       "   minutos_entre_arquivo_atual_e_proximo  qte_arquivos\n",
       "1                                    5.0           574"
      ]
     },
     "execution_count": 17,
     "metadata": {},
     "output_type": "execute_result"
    }
   ],
   "source": [
    "dfx_tempo"
   ]
  },
  {
   "cell_type": "code",
   "execution_count": 18,
   "id": "4c4f4ea4-8e33-4486-aa66-7f2d15895dba",
   "metadata": {},
   "outputs": [
    {
     "data": {
      "text/html": [
       "<div>\n",
       "<style scoped>\n",
       "    .dataframe tbody tr th:only-of-type {\n",
       "        vertical-align: middle;\n",
       "    }\n",
       "\n",
       "    .dataframe tbody tr th {\n",
       "        vertical-align: top;\n",
       "    }\n",
       "\n",
       "    .dataframe thead th {\n",
       "        text-align: right;\n",
       "    }\n",
       "</style>\n",
       "<table border=\"1\" class=\"dataframe\">\n",
       "  <thead>\n",
       "    <tr style=\"text-align: right;\">\n",
       "      <th></th>\n",
       "      <th>2023-02-18</th>\n",
       "      <th>2023-02-19</th>\n",
       "    </tr>\n",
       "    <tr>\n",
       "      <th>hor</th>\n",
       "      <th></th>\n",
       "      <th></th>\n",
       "    </tr>\n",
       "  </thead>\n",
       "  <tbody>\n",
       "    <tr>\n",
       "      <th>00</th>\n",
       "      <td>12</td>\n",
       "      <td>12</td>\n",
       "    </tr>\n",
       "    <tr>\n",
       "      <th>01</th>\n",
       "      <td>12</td>\n",
       "      <td>12</td>\n",
       "    </tr>\n",
       "    <tr>\n",
       "      <th>02</th>\n",
       "      <td>12</td>\n",
       "      <td>12</td>\n",
       "    </tr>\n",
       "    <tr>\n",
       "      <th>03</th>\n",
       "      <td>12</td>\n",
       "      <td>12</td>\n",
       "    </tr>\n",
       "    <tr>\n",
       "      <th>04</th>\n",
       "      <td>12</td>\n",
       "      <td>12</td>\n",
       "    </tr>\n",
       "    <tr>\n",
       "      <th>05</th>\n",
       "      <td>12</td>\n",
       "      <td>12</td>\n",
       "    </tr>\n",
       "    <tr>\n",
       "      <th>06</th>\n",
       "      <td>12</td>\n",
       "      <td>12</td>\n",
       "    </tr>\n",
       "    <tr>\n",
       "      <th>07</th>\n",
       "      <td>12</td>\n",
       "      <td>12</td>\n",
       "    </tr>\n",
       "    <tr>\n",
       "      <th>08</th>\n",
       "      <td>12</td>\n",
       "      <td>12</td>\n",
       "    </tr>\n",
       "    <tr>\n",
       "      <th>09</th>\n",
       "      <td>12</td>\n",
       "      <td>12</td>\n",
       "    </tr>\n",
       "    <tr>\n",
       "      <th>10</th>\n",
       "      <td>12</td>\n",
       "      <td>12</td>\n",
       "    </tr>\n",
       "    <tr>\n",
       "      <th>11</th>\n",
       "      <td>12</td>\n",
       "      <td>12</td>\n",
       "    </tr>\n",
       "    <tr>\n",
       "      <th>12</th>\n",
       "      <td>12</td>\n",
       "      <td>12</td>\n",
       "    </tr>\n",
       "    <tr>\n",
       "      <th>13</th>\n",
       "      <td>12</td>\n",
       "      <td>12</td>\n",
       "    </tr>\n",
       "    <tr>\n",
       "      <th>14</th>\n",
       "      <td>12</td>\n",
       "      <td>12</td>\n",
       "    </tr>\n",
       "    <tr>\n",
       "      <th>15</th>\n",
       "      <td>12</td>\n",
       "      <td>12</td>\n",
       "    </tr>\n",
       "    <tr>\n",
       "      <th>16</th>\n",
       "      <td>12</td>\n",
       "      <td>12</td>\n",
       "    </tr>\n",
       "    <tr>\n",
       "      <th>17</th>\n",
       "      <td>12</td>\n",
       "      <td>12</td>\n",
       "    </tr>\n",
       "    <tr>\n",
       "      <th>18</th>\n",
       "      <td>12</td>\n",
       "      <td>12</td>\n",
       "    </tr>\n",
       "    <tr>\n",
       "      <th>19</th>\n",
       "      <td>12</td>\n",
       "      <td>12</td>\n",
       "    </tr>\n",
       "    <tr>\n",
       "      <th>20</th>\n",
       "      <td>12</td>\n",
       "      <td>12</td>\n",
       "    </tr>\n",
       "    <tr>\n",
       "      <th>21</th>\n",
       "      <td>12</td>\n",
       "      <td>12</td>\n",
       "    </tr>\n",
       "    <tr>\n",
       "      <th>22</th>\n",
       "      <td>12</td>\n",
       "      <td>12</td>\n",
       "    </tr>\n",
       "    <tr>\n",
       "      <th>23</th>\n",
       "      <td>12</td>\n",
       "      <td>12</td>\n",
       "    </tr>\n",
       "  </tbody>\n",
       "</table>\n",
       "</div>"
      ],
      "text/plain": [
       "     2023-02-18  2023-02-19\n",
       "hor                        \n",
       "00           12          12\n",
       "01           12          12\n",
       "02           12          12\n",
       "03           12          12\n",
       "04           12          12\n",
       "05           12          12\n",
       "06           12          12\n",
       "07           12          12\n",
       "08           12          12\n",
       "09           12          12\n",
       "10           12          12\n",
       "11           12          12\n",
       "12           12          12\n",
       "13           12          12\n",
       "14           12          12\n",
       "15           12          12\n",
       "16           12          12\n",
       "17           12          12\n",
       "18           12          12\n",
       "19           12          12\n",
       "20           12          12\n",
       "21           12          12\n",
       "22           12          12\n",
       "23           12          12"
      ]
     },
     "execution_count": 18,
     "metadata": {},
     "output_type": "execute_result"
    }
   ],
   "source": [
    "dfx_hora"
   ]
  },
  {
   "cell_type": "code",
   "execution_count": 19,
   "id": "dffe0203-5c79-41cc-b714-8955fe548e0f",
   "metadata": {},
   "outputs": [
    {
     "data": {
      "text/html": [
       "<div>\n",
       "<style scoped>\n",
       "    .dataframe tbody tr th:only-of-type {\n",
       "        vertical-align: middle;\n",
       "    }\n",
       "\n",
       "    .dataframe tbody tr th {\n",
       "        vertical-align: top;\n",
       "    }\n",
       "\n",
       "    .dataframe thead th {\n",
       "        text-align: right;\n",
       "    }\n",
       "</style>\n",
       "<table border=\"1\" class=\"dataframe\">\n",
       "  <thead>\n",
       "    <tr style=\"text-align: right;\">\n",
       "      <th></th>\n",
       "      <th>2023-02-18</th>\n",
       "      <th>2023-02-19</th>\n",
       "    </tr>\n",
       "  </thead>\n",
       "  <tbody>\n",
       "    <tr>\n",
       "      <th>count</th>\n",
       "      <td>24.0</td>\n",
       "      <td>24.0</td>\n",
       "    </tr>\n",
       "    <tr>\n",
       "      <th>mean</th>\n",
       "      <td>12.0</td>\n",
       "      <td>12.0</td>\n",
       "    </tr>\n",
       "    <tr>\n",
       "      <th>std</th>\n",
       "      <td>0.0</td>\n",
       "      <td>0.0</td>\n",
       "    </tr>\n",
       "    <tr>\n",
       "      <th>min</th>\n",
       "      <td>12.0</td>\n",
       "      <td>12.0</td>\n",
       "    </tr>\n",
       "    <tr>\n",
       "      <th>25%</th>\n",
       "      <td>12.0</td>\n",
       "      <td>12.0</td>\n",
       "    </tr>\n",
       "    <tr>\n",
       "      <th>50%</th>\n",
       "      <td>12.0</td>\n",
       "      <td>12.0</td>\n",
       "    </tr>\n",
       "    <tr>\n",
       "      <th>75%</th>\n",
       "      <td>12.0</td>\n",
       "      <td>12.0</td>\n",
       "    </tr>\n",
       "    <tr>\n",
       "      <th>max</th>\n",
       "      <td>12.0</td>\n",
       "      <td>12.0</td>\n",
       "    </tr>\n",
       "  </tbody>\n",
       "</table>\n",
       "</div>"
      ],
      "text/plain": [
       "       2023-02-18  2023-02-19\n",
       "count        24.0        24.0\n",
       "mean         12.0        12.0\n",
       "std           0.0         0.0\n",
       "min          12.0        12.0\n",
       "25%          12.0        12.0\n",
       "50%          12.0        12.0\n",
       "75%          12.0        12.0\n",
       "max          12.0        12.0"
      ]
     },
     "execution_count": 19,
     "metadata": {},
     "output_type": "execute_result"
    }
   ],
   "source": [
    "dfx_hora.describe()"
   ]
  },
  {
   "cell_type": "code",
   "execution_count": 20,
   "id": "41878a81-8b83-443c-91da-9e968ac351e4",
   "metadata": {},
   "outputs": [],
   "source": [
    "#dfx_hora.values.tolist()"
   ]
  },
  {
   "cell_type": "code",
   "execution_count": 21,
   "id": "bb218c13-26e7-4ae6-aa09-2512ed015839",
   "metadata": {},
   "outputs": [
    {
     "data": {
      "text/plain": [
       "12.0"
      ]
     },
     "execution_count": 21,
     "metadata": {},
     "output_type": "execute_result"
    }
   ],
   "source": [
    "p50 = np.nanpercentile(dfx_hora.values.tolist(), 50)\n",
    "p50"
   ]
  },
  {
   "cell_type": "markdown",
   "id": "781c4ec3-5881-44b6-be61-efbff780f5ae",
   "metadata": {},
   "source": [
    "Gera gráfico do intervalo de tempo (em minutos) entre o atual e o próximo arquivo"
   ]
  },
  {
   "cell_type": "code",
   "execution_count": 22,
   "id": "2a1a4d00-e8f2-492c-9b98-176c5028ff6d",
   "metadata": {},
   "outputs": [
    {
     "data": {
      "text/html": [
       "<div>\n",
       "<style scoped>\n",
       "    .dataframe tbody tr th:only-of-type {\n",
       "        vertical-align: middle;\n",
       "    }\n",
       "\n",
       "    .dataframe tbody tr th {\n",
       "        vertical-align: top;\n",
       "    }\n",
       "\n",
       "    .dataframe thead th {\n",
       "        text-align: right;\n",
       "    }\n",
       "</style>\n",
       "<table border=\"1\" class=\"dataframe\">\n",
       "  <thead>\n",
       "    <tr style=\"text-align: right;\">\n",
       "      <th></th>\n",
       "      <th>minutos_entre_arquivo_atual_e_proximo</th>\n",
       "      <th>qte_arquivos</th>\n",
       "    </tr>\n",
       "  </thead>\n",
       "  <tbody>\n",
       "    <tr>\n",
       "      <th>1</th>\n",
       "      <td>5.0</td>\n",
       "      <td>574</td>\n",
       "    </tr>\n",
       "  </tbody>\n",
       "</table>\n",
       "</div>"
      ],
      "text/plain": [
       "   minutos_entre_arquivo_atual_e_proximo  qte_arquivos\n",
       "1                                    5.0           574"
      ]
     },
     "execution_count": 22,
     "metadata": {},
     "output_type": "execute_result"
    }
   ],
   "source": [
    "dfx_tempo"
   ]
  },
  {
   "cell_type": "code",
   "execution_count": 23,
   "id": "ddfb3a7a-ddaa-439e-a010-e2d37e75b597",
   "metadata": {},
   "outputs": [
    {
     "data": {
      "text/plain": [
       "['2023-02-18', '2023-02-19']"
      ]
     },
     "execution_count": 23,
     "metadata": {},
     "output_type": "execute_result"
    }
   ],
   "source": [
    "datas"
   ]
  },
  {
   "cell_type": "code",
   "execution_count": 24,
   "id": "2f3178c7-b872-444a-a8a4-c794fd38c915",
   "metadata": {},
   "outputs": [
    {
     "name": "stdout",
     "output_type": "stream",
     "text": [
      "Flattened List: [12, 12, 12, 12, 12, 12, 12, 12, 12, 12, 12, 12, 12, 12, 12, 12, 12, 12, 12, 12, 12, 12, 12, 12, 12, 12, 12, 12, 12, 12, 12, 12, 12, 12, 12, 12, 12, 12, 12, 12, 12, 12, 12, 12, 12, 12, 12, 12]\n",
      "12\n"
     ]
    }
   ],
   "source": [
    "import statistics as st\n",
    "import numpy as np\n",
    "\n",
    "# Sample List of Lists\n",
    "nested_list = dfx_hora.values.tolist()\n",
    " \n",
    "# Flatten using Nested Loops\n",
    "flattened_list = []\n",
    "for sublist in nested_list:\n",
    "    for item in sublist:\n",
    "        flattened_list.append(item)\n",
    " \n",
    "# Display the result\n",
    "print(\"Flattened List:\", flattened_list)\n",
    "moda = st.mode(flattened_list)\n",
    "print(moda)"
   ]
  },
  {
   "cell_type": "code",
   "execution_count": 27,
   "id": "a4732800-5b76-473b-980b-de79cc68cf3d",
   "metadata": {},
   "outputs": [
    {
     "data": {
      "image/png": "[encoded data removed]",
      "text/plain": [
       "<Figure size 900x400 with 1 Axes>"
      ]
     },
     "metadata": {},
     "output_type": "display_data"
    }
   ],
   "source": [
    "# importa bibliotecas\n",
    "import matplotlib.pyplot as plt\n",
    "import numpy as np\n",
    "import statistics as st\n",
    "\n",
    "# tamanho da figura\n",
    "fig, ax = plt.subplots(figsize=(9,4))\n",
    "\n",
    "# layout do gráfico\n",
    "plt.style.use('bmh')\n",
    "\n",
    "# calcula a moda \n",
    "# Sample List of Lists\n",
    "nested_list = dfx_hora.values.tolist()\n",
    " \n",
    "# Flatten using Nested Loops\n",
    "flattened_list = []\n",
    "for sublist in nested_list:\n",
    "    for item in sublist:\n",
    "        flattened_list.append(item)\n",
    "moda = st.mode(flattened_list)\n",
    "\n",
    "# calcula o total de arquivos de radar\n",
    "tot_files = dfx_tempo['qte_arquivos'].sum()\n",
    "tot_dias = len(dfx_hora.columns.values)\n",
    "\n",
    "# plota figura\n",
    "ax.bar(np.arange(1,9,1), \n",
    "       dfx_tempo['qte_arquivos'].tolist(),\n",
    "       color='blue',\n",
    "       label=f'Arquivos por hora={int(moda)}')\n",
    "\n",
    "# configuração dos eixos\n",
    "xticks = np.arange(1, dfx_tempo.shape[0]+1, 1)\n",
    "xticklabels = [str(i) for i in dfx_tempo['minutos_entre_arquivo_atual_e_proximo'].tolist()]\n",
    "\n",
    "ax.set(xlabel='Tempo (minutos)', \n",
    "       ylabel='Quantidade de Arquivos',\n",
    "       title=f'Intervalo de tempo entre o atual e o mais próximo arquivo de radar (fCTH-SP)\\n Quantidade de dias={tot_dias} / Total de arquivos={tot_files}',\n",
    "       xlim=(0,8),\n",
    "       xticks=xticks,\n",
    "       xticklabels=xticklabels)\n",
    "\n",
    "# tamanho da letra do título da figura\n",
    "ax.title.set_size(10)\n",
    "\n",
    "# adiciona legenda\n",
    "ax.legend(loc='best', frameon=False)\n",
    "\n",
    "# salva figura\n",
    "plt.savefig('output/minutos_entre_arquivo_atual_e_proximo.png', bbox_inches='tight', dpi=300)\n",
    "\n",
    "# mostra na tela a figura\n",
    "plt.show()"
   ]
  },
  {
   "cell_type": "code",
   "execution_count": 104,
   "id": "9acd6bda-e199-47b2-8544-4b5893ad513a",
   "metadata": {},
   "outputs": [
    {
     "data": {
      "text/plain": [
       "array([1, 2, 3, 4, 5, 6])"
      ]
     },
     "execution_count": 104,
     "metadata": {},
     "output_type": "execute_result"
    }
   ],
   "source": [
    "np.arange(1,7,1)"
   ]
  },
  {
   "cell_type": "code",
   "execution_count": 105,
   "id": "99dfcff0-6211-48c0-b9b4-c5ccc3033382",
   "metadata": {},
   "outputs": [
    {
     "data": {
      "text/plain": [
       "array([1, 2, 3, 4, 5, 6, 7, 8])"
      ]
     },
     "execution_count": 105,
     "metadata": {},
     "output_type": "execute_result"
    }
   ],
   "source": [
    "xticks"
   ]
  },
  {
   "cell_type": "code",
   "execution_count": 106,
   "id": "f9e0f332-6600-4b44-af76-c8184baf7f02",
   "metadata": {},
   "outputs": [
    {
     "data": {
      "text/plain": [
       "['4.7', '4.8', '6.3', '9.4', '9.5', '14.2', '14.4', '18.9']"
      ]
     },
     "execution_count": 106,
     "metadata": {},
     "output_type": "execute_result"
    }
   ],
   "source": [
    "xticklabels "
   ]
  },
  {
   "cell_type": "code",
   "execution_count": 107,
   "id": "a1cbdfc5-ba5f-49ef-89ed-cea4297cb99d",
   "metadata": {},
   "outputs": [
    {
     "data": {
      "text/plain": [
       "hor\n",
       "00    12\n",
       "01    12\n",
       "02    12\n",
       "03    11\n",
       "04    12\n",
       "05    12\n",
       "06    11\n",
       "07    13\n",
       "08    12\n",
       "09    11\n",
       "10    13\n",
       "11    12\n",
       "12    13\n",
       "13    13\n",
       "14    10\n",
       "15    12\n",
       "16    12\n",
       "17    13\n",
       "18    11\n",
       "19    13\n",
       "20    12\n",
       "21    13\n",
       "22    11\n",
       "23    13\n",
       "Name: ano, dtype: int64"
      ]
     },
     "execution_count": 107,
     "metadata": {},
     "output_type": "execute_result"
    }
   ],
   "source": [
    "df_hora_total[0]"
   ]
  },
  {
   "cell_type": "code",
   "execution_count": 108,
   "id": "c7e9efed-63cc-4eb7-9765-396b5f8996cc",
   "metadata": {},
   "outputs": [
    {
     "data": {
      "text/plain": [
       "hor\n",
       "00     9\n",
       "01    12\n",
       "02    12\n",
       "03    13\n",
       "04    12\n",
       "05    12\n",
       "06    11\n",
       "07    11\n",
       "08    13\n",
       "09    12\n",
       "10    13\n",
       "11    12\n",
       "12    13\n",
       "13    12\n",
       "14    11\n",
       "15    13\n",
       "16    13\n",
       "17    11\n",
       "18    12\n",
       "19    13\n",
       "20    12\n",
       "21    12\n",
       "22    13\n",
       "23    11\n",
       "Name: ano, dtype: int64"
      ]
     },
     "execution_count": 108,
     "metadata": {},
     "output_type": "execute_result"
    }
   ],
   "source": [
    "df_hora_total[1]"
   ]
  },
  {
   "cell_type": "code",
   "execution_count": 109,
   "id": "0c2fdf4e-aa5f-4696-a0f8-7b8518c05100",
   "metadata": {},
   "outputs": [
    {
     "data": {
      "text/plain": [
       "array([ 0. ,  4.7,  9.4, 18.9, 14.2,  9.5,  4.8, 14.4,  6.3])"
      ]
     },
     "execution_count": 109,
     "metadata": {},
     "output_type": "execute_result"
    }
   ],
   "source": [
    "df_total['deltaT_min'].unique()"
   ]
  },
  {
   "cell_type": "code",
   "execution_count": 110,
   "id": "59319fe1-3c6c-48c7-98e2-559fd9f28091",
   "metadata": {},
   "outputs": [
    {
     "data": {
      "text/plain": [
       "4.7     3515\n",
       "9.4      190\n",
       "14.2      44\n",
       "0.0       15\n",
       "18.9       5\n",
       "4.8        5\n",
       "9.5        4\n",
       "14.4       1\n",
       "6.3        1\n",
       "Name: deltaT_min, dtype: int64"
      ]
     },
     "execution_count": 110,
     "metadata": {},
     "output_type": "execute_result"
    }
   ],
   "source": [
    "df_total['deltaT_min'].value_counts()"
   ]
  },
  {
   "cell_type": "code",
   "execution_count": 111,
   "id": "00dcc82b-8133-485c-b3d1-636e92cc73ad",
   "metadata": {},
   "outputs": [
    {
     "data": {
      "text/plain": [
       "23.5"
      ]
     },
     "execution_count": 111,
     "metadata": {},
     "output_type": "execute_result"
    }
   ],
   "source": [
    "5*4.7"
   ]
  },
  {
   "cell_type": "code",
   "execution_count": 112,
   "id": "d2dacb30-89dd-471f-a897-e87badd13d04",
   "metadata": {},
   "outputs": [
    {
     "data": {
      "text/plain": [
       "4.7     187\n",
       "9.4      53\n",
       "14.2      2\n",
       "0.0       1\n",
       "18.9      1\n",
       "Name: deltaT_min, dtype: int64"
      ]
     },
     "execution_count": 112,
     "metadata": {},
     "output_type": "execute_result"
    }
   ],
   "source": [
    "df['deltaT_min'].value_counts()"
   ]
  },
  {
   "cell_type": "code",
   "execution_count": 113,
   "id": "552a0d7d-360e-45c0-ac8d-c27fd5fae6b1",
   "metadata": {},
   "outputs": [
    {
     "data": {
      "text/plain": [
       "9.4"
      ]
     },
     "execution_count": 113,
     "metadata": {},
     "output_type": "execute_result"
    }
   ],
   "source": [
    "4.7*2"
   ]
  },
  {
   "cell_type": "code",
   "execution_count": 114,
   "id": "3432f8ca-b677-4098-8149-9ae0ae1f3634",
   "metadata": {},
   "outputs": [
    {
     "data": {
      "text/plain": [
       "['00',\n",
       " '01',\n",
       " '02',\n",
       " '03',\n",
       " '04',\n",
       " '05',\n",
       " '06',\n",
       " '07',\n",
       " '08',\n",
       " '09',\n",
       " '10',\n",
       " '11',\n",
       " '12',\n",
       " '13',\n",
       " '14',\n",
       " '15',\n",
       " '16',\n",
       " '17',\n",
       " '18',\n",
       " '19',\n",
       " '20',\n",
       " '21',\n",
       " '22',\n",
       " '23']"
      ]
     },
     "execution_count": 114,
     "metadata": {},
     "output_type": "execute_result"
    }
   ],
   "source": [
    "df_hora.index.tolist()"
   ]
  },
  {
   "cell_type": "code",
   "execution_count": 115,
   "id": "cb07531b-34a4-4721-992a-12f8560189d3",
   "metadata": {},
   "outputs": [
    {
     "data": {
      "text/plain": [
       "array([ 8,  9,  9,  9, 12, 10, 11, 11, 10, 11, 10, 10,  8, 11, 11, 11, 10,\n",
       "       11, 12,  9, 10, 10, 11, 10], dtype=int64)"
      ]
     },
     "execution_count": 115,
     "metadata": {},
     "output_type": "execute_result"
    }
   ],
   "source": [
    "df_hora.values"
   ]
  },
  {
   "cell_type": "code",
   "execution_count": 116,
   "id": "6213c665-b239-4e53-b814-34ef132fa271",
   "metadata": {},
   "outputs": [
    {
     "data": {
      "text/plain": [
       "DatetimeIndex(['2024-01-03 00:06:54', '2024-01-03 00:11:37',\n",
       "               '2024-01-03 00:21:03', '2024-01-03 00:25:46',\n",
       "               '2024-01-03 00:30:29', '2024-01-03 00:35:12',\n",
       "               '2024-01-03 00:54:05', '2024-01-03 00:58:48',\n",
       "               '2024-01-03 01:08:14', '2024-01-03 01:12:57',\n",
       "               ...\n",
       "               '2024-01-03 23:04:34', '2024-01-03 23:09:17',\n",
       "               '2024-01-03 23:14:00', '2024-01-03 23:18:44',\n",
       "               '2024-01-03 23:23:27', '2024-01-03 23:32:53',\n",
       "               '2024-01-03 23:37:36', '2024-01-03 23:42:19',\n",
       "               '2024-01-03 23:47:02', '2024-01-03 23:56:28'],\n",
       "              dtype='datetime64[ns]', name='data', length=244, freq=None)"
      ]
     },
     "execution_count": 116,
     "metadata": {},
     "output_type": "execute_result"
    }
   ],
   "source": [
    "df.index"
   ]
  },
  {
   "cell_type": "code",
   "execution_count": 117,
   "id": "b9a752a5-822e-4aa7-84d0-4b8d3ea1da51",
   "metadata": {},
   "outputs": [
    {
     "name": "stdout",
     "output_type": "stream",
     "text": [
      "<class 'pandas.core.series.Series'>\n",
      "data\n",
      "2024-01-03 00:06:54   2024-01-03 00:06:54\n",
      "2024-01-03 00:11:37   2024-01-03 00:11:37\n",
      "2024-01-03 00:21:03   2024-01-03 00:21:03\n",
      "2024-01-03 00:25:46   2024-01-03 00:25:46\n",
      "2024-01-03 00:30:29   2024-01-03 00:30:29\n",
      "                              ...        \n",
      "2024-01-03 23:32:53   2024-01-03 23:32:53\n",
      "2024-01-03 23:37:36   2024-01-03 23:37:36\n",
      "2024-01-03 23:42:19   2024-01-03 23:42:19\n",
      "2024-01-03 23:47:02   2024-01-03 23:47:02\n",
      "2024-01-03 23:56:28   2024-01-03 23:56:28\n",
      "Name: data, Length: 244, dtype: datetime64[ns]\n"
     ]
    }
   ],
   "source": [
    "a = df.index.to_series()\n",
    "print(type(a))\n",
    "print(a)"
   ]
  },
  {
   "cell_type": "code",
   "execution_count": 118,
   "id": "396d08f8-39ca-4e89-ab79-a8a52611593b",
   "metadata": {},
   "outputs": [
    {
     "data": {
      "text/plain": [
       "data\n",
       "2024-01-03 00:06:54               NaT\n",
       "2024-01-03 00:11:37   0 days 00:04:43\n",
       "2024-01-03 00:21:03   0 days 00:09:26\n",
       "2024-01-03 00:25:46   0 days 00:04:43\n",
       "2024-01-03 00:30:29   0 days 00:04:43\n",
       "                            ...      \n",
       "2024-01-03 23:32:53   0 days 00:09:26\n",
       "2024-01-03 23:37:36   0 days 00:04:43\n",
       "2024-01-03 23:42:19   0 days 00:04:43\n",
       "2024-01-03 23:47:02   0 days 00:04:43\n",
       "2024-01-03 23:56:28   0 days 00:09:26\n",
       "Name: data, Length: 244, dtype: timedelta64[ns]"
      ]
     },
     "execution_count": 118,
     "metadata": {},
     "output_type": "execute_result"
    }
   ],
   "source": [
    "# calcula a diferença em dias, horas, minutos e segundos\n",
    "# df.index.to_series().diff().dt.seconds.div(60, fill_value=0)\n",
    "df.index.to_series().diff()"
   ]
  },
  {
   "cell_type": "code",
   "execution_count": 119,
   "id": "c1e07ab3-bab5-49f8-9713-0ac666e533c3",
   "metadata": {},
   "outputs": [
    {
     "data": {
      "text/plain": [
       "Timedelta('0 days 00:04:43')"
      ]
     },
     "execution_count": 119,
     "metadata": {},
     "output_type": "execute_result"
    }
   ],
   "source": [
    "dif = df.index[1]-df.index[0]\n",
    "dif"
   ]
  },
  {
   "cell_type": "code",
   "execution_count": 120,
   "id": "5096c213-10cb-4ae7-9de6-0f078778af0b",
   "metadata": {},
   "outputs": [
    {
     "name": "stdout",
     "output_type": "stream",
     "text": [
      "Components(days=0, hours=0, minutes=4, seconds=43, milliseconds=0, microseconds=0, nanoseconds=0)\n"
     ]
    }
   ],
   "source": [
    "delta = pd.Timestamp( df.index[1]) - pd.Timestamp(df.index[0])\n",
    "print(delta.components)"
   ]
  },
  {
   "cell_type": "code",
   "execution_count": 121,
   "id": "c142bd5e-e3bc-472d-ad91-a3842cfbe7b7",
   "metadata": {},
   "outputs": [
    {
     "data": {
      "text/plain": [
       "<pandas.core.indexes.accessors.TimedeltaProperties object at 0x00000179A980C460>"
      ]
     },
     "execution_count": 121,
     "metadata": {},
     "output_type": "execute_result"
    }
   ],
   "source": [
    "# df.index.to_series().diff().dt.seconds.div(60, fill_value=0)\n",
    "df.index.to_series().diff().dt"
   ]
  },
  {
   "cell_type": "code",
   "execution_count": 122,
   "id": "de71fb26-c839-4a2c-8458-bc8b7cd2a511",
   "metadata": {},
   "outputs": [
    {
     "data": {
      "text/plain": [
       "data\n",
       "2024-01-03 00:06:54      NaN\n",
       "2024-01-03 00:11:37    283.0\n",
       "2024-01-03 00:21:03    566.0\n",
       "2024-01-03 00:25:46    283.0\n",
       "2024-01-03 00:30:29    283.0\n",
       "                       ...  \n",
       "2024-01-03 23:32:53    566.0\n",
       "2024-01-03 23:37:36    283.0\n",
       "2024-01-03 23:42:19    283.0\n",
       "2024-01-03 23:47:02    283.0\n",
       "2024-01-03 23:56:28    566.0\n",
       "Name: data, Length: 244, dtype: float64"
      ]
     },
     "execution_count": 122,
     "metadata": {},
     "output_type": "execute_result"
    }
   ],
   "source": [
    "# converte a diferença de tempo para segundos\n",
    "# df.index.to_series().diff().dt.seconds.div(60, fill_value=0)\n",
    "df.index.to_series().diff().dt.seconds"
   ]
  },
  {
   "cell_type": "code",
   "execution_count": 123,
   "id": "f4d7d8c5-3574-49c8-80b0-27d8f6d3c7d7",
   "metadata": {},
   "outputs": [
    {
     "data": {
      "text/plain": [
       "data\n",
       "2024-01-03 00:06:54    0.000000\n",
       "2024-01-03 00:11:37    4.716667\n",
       "2024-01-03 00:21:03    9.433333\n",
       "2024-01-03 00:25:46    4.716667\n",
       "2024-01-03 00:30:29    4.716667\n",
       "                         ...   \n",
       "2024-01-03 23:32:53    9.433333\n",
       "2024-01-03 23:37:36    4.716667\n",
       "2024-01-03 23:42:19    4.716667\n",
       "2024-01-03 23:47:02    4.716667\n",
       "2024-01-03 23:56:28    9.433333\n",
       "Name: data, Length: 244, dtype: float64"
      ]
     },
     "execution_count": 123,
     "metadata": {},
     "output_type": "execute_result"
    }
   ],
   "source": [
    "# transforma de segundos para minutos. Para isto divide por 60\n",
    "# df.index.to_series().diff().dt.seconds.div(60, fill_value=0)\n",
    "df.index.to_series().diff().dt.seconds.div(60, fill_value=0)"
   ]
  },
  {
   "cell_type": "code",
   "execution_count": 124,
   "id": "628cde8f-0c74-4e77-8195-c15a818bcb51",
   "metadata": {},
   "outputs": [
    {
     "data": {
      "text/plain": [
       "array([ 0. ,  4.7,  9.4, 18.9, 14.2])"
      ]
     },
     "execution_count": 124,
     "metadata": {},
     "output_type": "execute_result"
    }
   ],
   "source": [
    "df['deltaT_min'].unique()"
   ]
  },
  {
   "cell_type": "code",
   "execution_count": 125,
   "id": "7668e3de-3e68-40f3-bb71-1b3b630c3c86",
   "metadata": {},
   "outputs": [
    {
     "data": {
      "text/plain": [
       "4.7     187\n",
       "9.4      53\n",
       "14.2      2\n",
       "0.0       1\n",
       "18.9      1\n",
       "Name: deltaT_min, dtype: int64"
      ]
     },
     "execution_count": 125,
     "metadata": {},
     "output_type": "execute_result"
    }
   ],
   "source": [
    "df['deltaT_min'].value_counts()"
   ]
  }
 ],
 "metadata": {
  "kernelspec": {
   "display_name": "Python 3 (ipykernel)",
   "language": "python",
   "name": "python3"
  },
  "language_info": {
   "codemirror_mode": {
    "name": "ipython",
    "version": 3
   },
   "file_extension": ".py",
   "mimetype": "text/x-python",
   "name": "python",
   "nbconvert_exporter": "python",
   "pygments_lexer": "ipython3",
   "version": "3.10.11"
  }
 },
 "nbformat": 4,
 "nbformat_minor": 5
}
